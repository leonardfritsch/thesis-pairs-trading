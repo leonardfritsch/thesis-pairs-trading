{
 "cells": [
  {
   "cell_type": "code",
   "execution_count": 66,
   "metadata": {
    "collapsed": true,
    "ExecuteTime": {
     "start_time": "2023-05-01T17:42:15.769380Z",
     "end_time": "2023-05-01T17:42:16.458817Z"
    }
   },
   "outputs": [],
   "source": [
    "import pandas as pd\n",
    "import matplotlib.pylab as plt\n",
    "import pandas_datareader.data as web\n",
    "import datetime\n",
    "import numpy as np\n",
    "\n",
    "f1 = 'USREC'\n",
    "data = web.DataReader([f1], 'fred', start = '2004-01-01', end = '2022-01-01')"
   ]
  },
  {
   "cell_type": "code",
   "execution_count": 67,
   "outputs": [
    {
     "data": {
      "text/plain": "<matplotlib.legend.Legend at 0x7fc67a0fdae0>"
     },
     "execution_count": 67,
     "metadata": {},
     "output_type": "execute_result"
    },
    {
     "data": {
      "text/plain": "<Figure size 1000x500 with 1 Axes>",
      "image/png": "[encoded data removed]"
     },
     "metadata": {},
     "output_type": "display_data"
    }
   ],
   "source": [
    "plt.figure(figsize=(10,5))\n",
    "plt.plot(data, label = str(data.columns[0]))\n",
    "plt.legend(loc = 'upper right')"
   ],
   "metadata": {
    "collapsed": false,
    "ExecuteTime": {
     "start_time": "2023-05-01T17:42:19.946621Z",
     "end_time": "2023-05-01T17:42:20.148560Z"
    }
   }
  },
  {
   "cell_type": "code",
   "execution_count": 69,
   "outputs": [],
   "source": [
    "rec2008 = data.loc[data['USREC'] == 1]"
   ],
   "metadata": {
    "collapsed": false,
    "ExecuteTime": {
     "start_time": "2023-05-04T17:46:16.700923Z",
     "end_time": "2023-05-04T17:46:16.707948Z"
    }
   }
  },
  {
   "cell_type": "code",
   "execution_count": 70,
   "outputs": [
    {
     "data": {
      "text/plain": "            USREC\nDATE             \n2008-01-01      1\n2008-02-01      1\n2008-03-01      1\n2008-04-01      1\n2008-05-01      1\n2008-06-01      1\n2008-07-01      1\n2008-08-01      1\n2008-09-01      1\n2008-10-01      1\n2008-11-01      1\n2008-12-01      1\n2009-01-01      1\n2009-02-01      1\n2009-03-01      1\n2009-04-01      1\n2009-05-01      1\n2009-06-01      1\n2020-03-01      1\n2020-04-01      1",
      "text/html": "<div>\n<style scoped>\n    .dataframe tbody tr th:only-of-type {\n        vertical-align: middle;\n    }\n\n    .dataframe tbody tr th {\n        vertical-align: top;\n    }\n\n    .dataframe thead th {\n        text-align: right;\n    }\n</style>\n<table border=\"1\" class=\"dataframe\">\n  <thead>\n    <tr style=\"text-align: right;\">\n      <th></th>\n      <th>USREC</th>\n    </tr>\n    <tr>\n      <th>DATE</th>\n      <th></th>\n    </tr>\n  </thead>\n  <tbody>\n    <tr>\n      <th>2008-01-01</th>\n      <td>1</td>\n    </tr>\n    <tr>\n      <th>2008-02-01</th>\n      <td>1</td>\n    </tr>\n    <tr>\n      <th>2008-03-01</th>\n      <td>1</td>\n    </tr>\n    <tr>\n      <th>2008-04-01</th>\n      <td>1</td>\n    </tr>\n    <tr>\n      <th>2008-05-01</th>\n      <td>1</td>\n    </tr>\n    <tr>\n      <th>2008-06-01</th>\n      <td>1</td>\n    </tr>\n    <tr>\n      <th>2008-07-01</th>\n      <td>1</td>\n    </tr>\n    <tr>\n      <th>2008-08-01</th>\n      <td>1</td>\n    </tr>\n    <tr>\n      <th>2008-09-01</th>\n      <td>1</td>\n    </tr>\n    <tr>\n      <th>2008-10-01</th>\n      <td>1</td>\n    </tr>\n    <tr>\n      <th>2008-11-01</th>\n      <td>1</td>\n    </tr>\n    <tr>\n      <th>2008-12-01</th>\n      <td>1</td>\n    </tr>\n    <tr>\n      <th>2009-01-01</th>\n      <td>1</td>\n    </tr>\n    <tr>\n      <th>2009-02-01</th>\n      <td>1</td>\n    </tr>\n    <tr>\n      <th>2009-03-01</th>\n      <td>1</td>\n    </tr>\n    <tr>\n      <th>2009-04-01</th>\n      <td>1</td>\n    </tr>\n    <tr>\n      <th>2009-05-01</th>\n      <td>1</td>\n    </tr>\n    <tr>\n      <th>2009-06-01</th>\n      <td>1</td>\n    </tr>\n    <tr>\n      <th>2020-03-01</th>\n      <td>1</td>\n    </tr>\n    <tr>\n      <th>2020-04-01</th>\n      <td>1</td>\n    </tr>\n  </tbody>\n</table>\n</div>"
     },
     "execution_count": 70,
     "metadata": {},
     "output_type": "execute_result"
    }
   ],
   "source": [
    "rec2008"
   ],
   "metadata": {
    "collapsed": false,
    "ExecuteTime": {
     "start_time": "2023-05-04T17:46:23.295295Z",
     "end_time": "2023-05-04T17:46:23.299542Z"
    }
   }
  },
  {
   "cell_type": "code",
   "execution_count": 52,
   "outputs": [],
   "source": [
    "rec2008 = rec2008.loc[rec2008.index.year == 2008]"
   ],
   "metadata": {
    "collapsed": false,
    "ExecuteTime": {
     "start_time": "2023-05-01T17:33:13.423678Z",
     "end_time": "2023-05-01T17:33:13.429486Z"
    }
   }
  },
  {
   "cell_type": "code",
   "execution_count": 53,
   "outputs": [
    {
     "data": {
      "text/plain": "USREC    1\nName: 2008-01-01 00:00:00, dtype: int64"
     },
     "execution_count": 53,
     "metadata": {},
     "output_type": "execute_result"
    }
   ],
   "source": [
    "rec2008.iloc[0]"
   ],
   "metadata": {
    "collapsed": false,
    "ExecuteTime": {
     "start_time": "2023-05-01T17:33:14.232672Z",
     "end_time": "2023-05-01T17:33:14.239635Z"
    }
   }
  },
  {
   "cell_type": "code",
   "execution_count": 54,
   "outputs": [
    {
     "data": {
      "text/plain": "Timestamp('2008-01-01 00:00:00')"
     },
     "execution_count": 54,
     "metadata": {},
     "output_type": "execute_result"
    }
   ],
   "source": [
    "rec2008.index[0]"
   ],
   "metadata": {
    "collapsed": false,
    "ExecuteTime": {
     "start_time": "2023-05-01T17:33:59.841805Z",
     "end_time": "2023-05-01T17:33:59.849477Z"
    }
   }
  },
  {
   "cell_type": "code",
   "execution_count": 58,
   "outputs": [
    {
     "name": "stdout",
     "output_type": "stream",
     "text": [
      "2007-05-09 00:00:00 2008-05-08 00:00:00\n"
     ]
    }
   ],
   "source": [
    "startdate_2008 = rec2008.index[0] - datetime.timedelta(days = 237)\n",
    "enddate_2008 = startdate_2008 + datetime.timedelta(days = 365)\n",
    "print(startdate_2008, enddate_2008)"
   ],
   "metadata": {
    "collapsed": false,
    "ExecuteTime": {
     "start_time": "2023-05-01T17:37:09.748007Z",
     "end_time": "2023-05-01T17:37:09.755829Z"
    }
   }
  },
  {
   "cell_type": "code",
   "execution_count": 59,
   "outputs": [],
   "source": [
    "rec2020 = data.loc[data['USREC'] == 1]\n",
    "rec2020 = rec2020.loc[rec2020.index.year == 2020]\n",
    "startdate_2020 = rec2020.index[0] - datetime.timedelta(days = 237)\n",
    "enddate_2020 = startdate_2020 + datetime.timedelta(days = 365)"
   ],
   "metadata": {
    "collapsed": false,
    "ExecuteTime": {
     "start_time": "2023-05-01T17:39:37.865936Z",
     "end_time": "2023-05-01T17:39:37.883536Z"
    }
   }
  },
  {
   "cell_type": "code",
   "execution_count": 68,
   "outputs": [
    {
     "data": {
      "text/plain": "Timestamp('2020-03-01 00:00:00')"
     },
     "execution_count": 68,
     "metadata": {},
     "output_type": "execute_result"
    }
   ],
   "source": [
    "rec2020.index[0]"
   ],
   "metadata": {
    "collapsed": false,
    "ExecuteTime": {
     "start_time": "2023-05-03T15:08:10.642021Z",
     "end_time": "2023-05-03T15:08:10.650070Z"
    }
   }
  },
  {
   "cell_type": "code",
   "execution_count": 60,
   "outputs": [
    {
     "name": "stdout",
     "output_type": "stream",
     "text": [
      "2019-07-08 00:00:00 2020-07-07 00:00:00\n"
     ]
    }
   ],
   "source": [
    "print(startdate_2020, enddate_2020)"
   ],
   "metadata": {
    "collapsed": false,
    "ExecuteTime": {
     "start_time": "2023-05-01T17:39:47.899820Z",
     "end_time": "2023-05-01T17:39:47.913738Z"
    }
   }
  },
  {
   "cell_type": "code",
   "execution_count": 61,
   "outputs": [
    {
     "data": {
      "text/plain": "Timestamp('2020-03-01 00:00:00')"
     },
     "execution_count": 61,
     "metadata": {},
     "output_type": "execute_result"
    }
   ],
   "source": [
    "rec2020.index[0]"
   ],
   "metadata": {
    "collapsed": false,
    "ExecuteTime": {
     "start_time": "2023-05-01T17:40:12.674967Z",
     "end_time": "2023-05-01T17:40:12.693845Z"
    }
   }
  },
  {
   "cell_type": "code",
   "execution_count": null,
   "outputs": [],
   "source": [],
   "metadata": {
    "collapsed": false
   }
  }
 ],
 "metadata": {
  "kernelspec": {
   "display_name": "Python 3",
   "language": "python",
   "name": "python3"
  },
  "language_info": {
   "codemirror_mode": {
    "name": "ipython",
    "version": 2
   },
   "file_extension": ".py",
   "mimetype": "text/x-python",
   "name": "python",
   "nbconvert_exporter": "python",
   "pygments_lexer": "ipython2",
   "version": "2.7.6"
  }
 },
 "nbformat": 4,
 "nbformat_minor": 0
}
